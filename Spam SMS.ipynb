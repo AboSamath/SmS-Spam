{
  "cells": [
    {
      "cell_type": "code",
      "execution_count": 34,
      "metadata": {
        "colab": {},
        "colab_type": "code",
        "id": "CuLTKUtDkeNy"
      },
      "outputs": [],
      "source": [
        "# Importing essential libraries\n",
        "import numpy as np\n",
        "import pandas as pd\n",
        "\n",
        "# Import des librairies nécessaires pour la visualisation\n",
        "import matplotlib.pyplot as plt\n",
        "import seaborn as sns\n",
        "%matplotlib inline"
      ]
    },
    {
      "cell_type": "code",
      "execution_count": 15,
      "metadata": {
        "colab": {},
        "colab_type": "code",
        "id": "-JugX3xqksdz"
      },
      "outputs": [],
      "source": [
        "# Loading the dataset\n",
        "df_sms = pd.read_csv('./Data/Spam SMS Collection.txt', sep='\\t', names=['label', 'message'])"
      ]
    },
    {
      "cell_type": "markdown",
      "metadata": {
        "colab_type": "text",
        "id": "1Rkt2A1-lLmU"
      },
      "source": [
        "# **Exploration des données (EDA) | Exploratory Data Analysis**\n",
        "* Exploration des valeurs nulles NaN\n",
        "* Afichage des graphes pour Spam vs. Ham\n",
        "\n"
      ]
    },
    {
      "cell_type": "code",
      "execution_count": 20,
      "metadata": {
        "colab": {
          "base_uri": "https://localhost:8080/",
          "height": 34
        },
        "colab_type": "code",
        "id": "tzna42NelFhk",
        "outputId": "0ce03feb-a0ad-4b97-8792-a8713ad9819e"
      },
      "outputs": [
        {
          "data": {
            "text/plain": [
              "(5572, 2)"
            ]
          },
          "execution_count": 20,
          "metadata": {},
          "output_type": "execute_result"
        }
      ],
      "source": [
        "#Affichage de la taille du jeu de données\n",
        "df_sms.shape"
      ]
    },
    {
      "cell_type": "code",
      "execution_count": 21,
      "metadata": {
        "colab": {
          "base_uri": "https://localhost:8080/",
          "height": 34
        },
        "colab_type": "code",
        "id": "6sBEdM7LlDIw",
        "outputId": "fdc9465d-8206-4d23-d608-88de76fdb362"
      },
      "outputs": [
        {
          "data": {
            "text/plain": [
              "Index(['label', 'message'], dtype='object')"
            ]
          },
          "execution_count": 21,
          "metadata": {},
          "output_type": "execute_result"
        }
      ],
      "source": [
        "#Affichage des colonnes\n",
        "df_sms.columns"
      ]
    },
    {
      "cell_type": "code",
      "execution_count": 22,
      "metadata": {
        "colab": {
          "base_uri": "https://localhost:8080/",
          "height": 70
        },
        "colab_type": "code",
        "id": "D2Y-K4vTBFtI",
        "outputId": "7163c3f4-8cad-477e-85cd-65bf4d658298"
      },
      "outputs": [
        {
          "data": {
            "text/plain": [
              "label      object\n",
              "message    object\n",
              "dtype: object"
            ]
          },
          "execution_count": 22,
          "metadata": {},
          "output_type": "execute_result"
        }
      ],
      "source": [
        "#Affichage des types de variables\n",
        "df_sms.dtypes"
      ]
    },
    {
      "cell_type": "code",
      "execution_count": 23,
      "metadata": {
        "colab": {
          "base_uri": "https://localhost:8080/",
          "height": 197
        },
        "colab_type": "code",
        "id": "qcTIhSlRlHrb",
        "outputId": "e4eaf79e-ed78-439e-a8c1-6db0852e222b"
      },
      "outputs": [
        {
          "data": {
            "text/html": [
              "<div>\n",
              "<style scoped>\n",
              "    .dataframe tbody tr th:only-of-type {\n",
              "        vertical-align: middle;\n",
              "    }\n",
              "\n",
              "    .dataframe tbody tr th {\n",
              "        vertical-align: top;\n",
              "    }\n",
              "\n",
              "    .dataframe thead th {\n",
              "        text-align: right;\n",
              "    }\n",
              "</style>\n",
              "<table border=\"1\" class=\"dataframe\">\n",
              "  <thead>\n",
              "    <tr style=\"text-align: right;\">\n",
              "      <th></th>\n",
              "      <th>label</th>\n",
              "      <th>message</th>\n",
              "    </tr>\n",
              "  </thead>\n",
              "  <tbody>\n",
              "    <tr>\n",
              "      <th>0</th>\n",
              "      <td>ham</td>\n",
              "      <td>Go until jurong point, crazy.. Available only ...</td>\n",
              "    </tr>\n",
              "    <tr>\n",
              "      <th>1</th>\n",
              "      <td>ham</td>\n",
              "      <td>Ok lar... Joking wif u oni...</td>\n",
              "    </tr>\n",
              "    <tr>\n",
              "      <th>2</th>\n",
              "      <td>spam</td>\n",
              "      <td>Free entry in 2 a wkly comp to win FA Cup fina...</td>\n",
              "    </tr>\n",
              "    <tr>\n",
              "      <th>3</th>\n",
              "      <td>ham</td>\n",
              "      <td>U dun say so early hor... U c already then say...</td>\n",
              "    </tr>\n",
              "    <tr>\n",
              "      <th>4</th>\n",
              "      <td>ham</td>\n",
              "      <td>Nah I don't think he goes to usf, he lives aro...</td>\n",
              "    </tr>\n",
              "  </tbody>\n",
              "</table>\n",
              "</div>"
            ],
            "text/plain": [
              "  label                                            message\n",
              "0   ham  Go until jurong point, crazy.. Available only ...\n",
              "1   ham                      Ok lar... Joking wif u oni...\n",
              "2  spam  Free entry in 2 a wkly comp to win FA Cup fina...\n",
              "3   ham  U dun say so early hor... U c already then say...\n",
              "4   ham  Nah I don't think he goes to usf, he lives aro..."
            ]
          },
          "execution_count": 23,
          "metadata": {},
          "output_type": "execute_result"
        }
      ],
      "source": [
        "#Affichage de l'entête\n",
        "df_sms.head()"
      ]
    },
    {
      "cell_type": "code",
      "execution_count": 24,
      "metadata": {
        "colab": {
          "base_uri": "https://localhost:8080/",
          "height": 197
        },
        "colab_type": "code",
        "id": "ZF5n2VL8J1wC",
        "outputId": "24564d19-39da-4fa0-a3cb-0e3f4cad41a0"
      },
      "outputs": [
        {
          "data": {
            "text/html": [
              "<div>\n",
              "<style scoped>\n",
              "    .dataframe tbody tr th:only-of-type {\n",
              "        vertical-align: middle;\n",
              "    }\n",
              "\n",
              "    .dataframe tbody tr th {\n",
              "        vertical-align: top;\n",
              "    }\n",
              "\n",
              "    .dataframe thead th {\n",
              "        text-align: right;\n",
              "    }\n",
              "</style>\n",
              "<table border=\"1\" class=\"dataframe\">\n",
              "  <thead>\n",
              "    <tr style=\"text-align: right;\">\n",
              "      <th></th>\n",
              "      <th>label</th>\n",
              "      <th>message</th>\n",
              "    </tr>\n",
              "  </thead>\n",
              "  <tbody>\n",
              "    <tr>\n",
              "      <th>5567</th>\n",
              "      <td>spam</td>\n",
              "      <td>This is the 2nd time we have tried 2 contact u...</td>\n",
              "    </tr>\n",
              "    <tr>\n",
              "      <th>5568</th>\n",
              "      <td>ham</td>\n",
              "      <td>Will ü b going to esplanade fr home?</td>\n",
              "    </tr>\n",
              "    <tr>\n",
              "      <th>5569</th>\n",
              "      <td>ham</td>\n",
              "      <td>Pity, * was in mood for that. So...any other s...</td>\n",
              "    </tr>\n",
              "    <tr>\n",
              "      <th>5570</th>\n",
              "      <td>ham</td>\n",
              "      <td>The guy did some bitching but I acted like i'd...</td>\n",
              "    </tr>\n",
              "    <tr>\n",
              "      <th>5571</th>\n",
              "      <td>ham</td>\n",
              "      <td>Rofl. Its true to its name</td>\n",
              "    </tr>\n",
              "  </tbody>\n",
              "</table>\n",
              "</div>"
            ],
            "text/plain": [
              "     label                                            message\n",
              "5567  spam  This is the 2nd time we have tried 2 contact u...\n",
              "5568   ham               Will ü b going to esplanade fr home?\n",
              "5569   ham  Pity, * was in mood for that. So...any other s...\n",
              "5570   ham  The guy did some bitching but I acted like i'd...\n",
              "5571   ham                         Rofl. Its true to its name"
            ]
          },
          "execution_count": 24,
          "metadata": {},
          "output_type": "execute_result"
        }
      ],
      "source": [
        "#Affichage des dernieres lignes du jeu de données\n",
        "df_sms.tail()"
      ]
    },
    {
      "cell_type": "code",
      "execution_count": 25,
      "metadata": {
        "colab": {
          "base_uri": "https://localhost:8080/",
          "height": 176
        },
        "colab_type": "code",
        "id": "KjBi50n3BJk_",
        "outputId": "020bef5f-0eae-4645-e05c-55650c16bcdc"
      },
      "outputs": [
        {
          "name": "stdout",
          "output_type": "stream",
          "text": [
            "<class 'pandas.core.frame.DataFrame'>\n",
            "RangeIndex: 5572 entries, 0 to 5571\n",
            "Data columns (total 2 columns):\n",
            " #   Column   Non-Null Count  Dtype \n",
            "---  ------   --------------  ----- \n",
            " 0   label    5572 non-null   object\n",
            " 1   message  5572 non-null   object\n",
            "dtypes: object(2)\n",
            "memory usage: 87.2+ KB\n"
          ]
        }
      ],
      "source": [
        "df_sms.info()"
      ]
    },
    {
      "cell_type": "code",
      "execution_count": 27,
      "metadata": {
        "colab": {
          "base_uri": "https://localhost:8080/",
          "height": 167
        },
        "colab_type": "code",
        "id": "Ipncn2wWGnCR",
        "outputId": "46d1d29b-73a3-4205-a2ce-4ceba8b1d63b"
      },
      "outputs": [
        {
          "data": {
            "text/html": [
              "<div>\n",
              "<style scoped>\n",
              "    .dataframe tbody tr th:only-of-type {\n",
              "        vertical-align: middle;\n",
              "    }\n",
              "\n",
              "    .dataframe tbody tr th {\n",
              "        vertical-align: top;\n",
              "    }\n",
              "\n",
              "    .dataframe thead th {\n",
              "        text-align: right;\n",
              "    }\n",
              "</style>\n",
              "<table border=\"1\" class=\"dataframe\">\n",
              "  <thead>\n",
              "    <tr style=\"text-align: right;\">\n",
              "      <th></th>\n",
              "      <th>label</th>\n",
              "      <th>message</th>\n",
              "    </tr>\n",
              "  </thead>\n",
              "  <tbody>\n",
              "    <tr>\n",
              "      <th>count</th>\n",
              "      <td>5572</td>\n",
              "      <td>5572</td>\n",
              "    </tr>\n",
              "    <tr>\n",
              "      <th>unique</th>\n",
              "      <td>2</td>\n",
              "      <td>5169</td>\n",
              "    </tr>\n",
              "    <tr>\n",
              "      <th>top</th>\n",
              "      <td>ham</td>\n",
              "      <td>Sorry, I'll call later</td>\n",
              "    </tr>\n",
              "    <tr>\n",
              "      <th>freq</th>\n",
              "      <td>4825</td>\n",
              "      <td>30</td>\n",
              "    </tr>\n",
              "  </tbody>\n",
              "</table>\n",
              "</div>"
            ],
            "text/plain": [
              "       label                 message\n",
              "count   5572                    5572\n",
              "unique     2                    5169\n",
              "top      ham  Sorry, I'll call later\n",
              "freq    4825                      30"
            ]
          },
          "execution_count": 27,
          "metadata": {},
          "output_type": "execute_result"
        }
      ],
      "source": [
        "#Description statistiques des colonnes\n",
        "\n",
        "df_sms.describe()"
      ]
    },
    {
      "cell_type": "code",
      "execution_count": 30,
      "metadata": {},
      "outputs": [
        {
          "data": {
            "text/plain": [
              "label      0\n",
              "message    0\n",
              "dtype: int64"
            ]
          },
          "execution_count": 30,
          "metadata": {},
          "output_type": "execute_result"
        }
      ],
      "source": [
        "#Recherche de valeurs nulles dans le jeu de données\n",
        "df_sms.isnull().sum()"
      ]
    },
    {
      "cell_type": "markdown",
      "metadata": {
        "colab_type": "text",
        "id": "RI-zu8fXBQoc"
      },
      "source": [
        "_**Note: Pas de valeurs nulles** dans le jeu de données._"
      ]
    },
    {
      "cell_type": "code",
      "execution_count": 31,
      "metadata": {
        "colab": {},
        "colab_type": "code",
        "id": "8NpIBm-GJWJ6"
      },
      "outputs": [],
      "source": [
        "# Mapping des valeurs de la colonne label en remplaçant ham par O et spam par 1\n",
        "df_sms['label'] = df_sms['label'].map({'ham': 0, 'spam': 1})"
      ]
    },
    {
      "cell_type": "code",
      "execution_count": 32,
      "metadata": {
        "colab": {
          "base_uri": "https://localhost:8080/",
          "height": 197
        },
        "colab_type": "code",
        "id": "fJzlOdnuJsIw",
        "outputId": "7f4706d7-2e70-4d90-fd02-170b96b0d2a7"
      },
      "outputs": [
        {
          "data": {
            "text/html": [
              "<div>\n",
              "<style scoped>\n",
              "    .dataframe tbody tr th:only-of-type {\n",
              "        vertical-align: middle;\n",
              "    }\n",
              "\n",
              "    .dataframe tbody tr th {\n",
              "        vertical-align: top;\n",
              "    }\n",
              "\n",
              "    .dataframe thead th {\n",
              "        text-align: right;\n",
              "    }\n",
              "</style>\n",
              "<table border=\"1\" class=\"dataframe\">\n",
              "  <thead>\n",
              "    <tr style=\"text-align: right;\">\n",
              "      <th></th>\n",
              "      <th>label</th>\n",
              "      <th>message</th>\n",
              "    </tr>\n",
              "  </thead>\n",
              "  <tbody>\n",
              "    <tr>\n",
              "      <th>0</th>\n",
              "      <td>0</td>\n",
              "      <td>Go until jurong point, crazy.. Available only ...</td>\n",
              "    </tr>\n",
              "    <tr>\n",
              "      <th>1</th>\n",
              "      <td>0</td>\n",
              "      <td>Ok lar... Joking wif u oni...</td>\n",
              "    </tr>\n",
              "    <tr>\n",
              "      <th>2</th>\n",
              "      <td>1</td>\n",
              "      <td>Free entry in 2 a wkly comp to win FA Cup fina...</td>\n",
              "    </tr>\n",
              "    <tr>\n",
              "      <th>3</th>\n",
              "      <td>0</td>\n",
              "      <td>U dun say so early hor... U c already then say...</td>\n",
              "    </tr>\n",
              "    <tr>\n",
              "      <th>4</th>\n",
              "      <td>0</td>\n",
              "      <td>Nah I don't think he goes to usf, he lives aro...</td>\n",
              "    </tr>\n",
              "  </tbody>\n",
              "</table>\n",
              "</div>"
            ],
            "text/plain": [
              "   label                                            message\n",
              "0      0  Go until jurong point, crazy.. Available only ...\n",
              "1      0                      Ok lar... Joking wif u oni...\n",
              "2      1  Free entry in 2 a wkly comp to win FA Cup fina...\n",
              "3      0  U dun say so early hor... U c already then say...\n",
              "4      0  Nah I don't think he goes to usf, he lives aro..."
            ]
          },
          "execution_count": 32,
          "metadata": {},
          "output_type": "execute_result"
        }
      ],
      "source": [
        "df_sms.head()"
      ]
    },
    {
      "cell_type": "code",
      "execution_count": 33,
      "metadata": {
        "colab": {
          "base_uri": "https://localhost:8080/",
          "height": 197
        },
        "colab_type": "code",
        "id": "noXpzSrQJ465",
        "outputId": "e788cdf1-1c78-4a6b-e08b-ce581b933334"
      },
      "outputs": [
        {
          "data": {
            "text/html": [
              "<div>\n",
              "<style scoped>\n",
              "    .dataframe tbody tr th:only-of-type {\n",
              "        vertical-align: middle;\n",
              "    }\n",
              "\n",
              "    .dataframe tbody tr th {\n",
              "        vertical-align: top;\n",
              "    }\n",
              "\n",
              "    .dataframe thead th {\n",
              "        text-align: right;\n",
              "    }\n",
              "</style>\n",
              "<table border=\"1\" class=\"dataframe\">\n",
              "  <thead>\n",
              "    <tr style=\"text-align: right;\">\n",
              "      <th></th>\n",
              "      <th>label</th>\n",
              "      <th>message</th>\n",
              "    </tr>\n",
              "  </thead>\n",
              "  <tbody>\n",
              "    <tr>\n",
              "      <th>5567</th>\n",
              "      <td>1</td>\n",
              "      <td>This is the 2nd time we have tried 2 contact u...</td>\n",
              "    </tr>\n",
              "    <tr>\n",
              "      <th>5568</th>\n",
              "      <td>0</td>\n",
              "      <td>Will ü b going to esplanade fr home?</td>\n",
              "    </tr>\n",
              "    <tr>\n",
              "      <th>5569</th>\n",
              "      <td>0</td>\n",
              "      <td>Pity, * was in mood for that. So...any other s...</td>\n",
              "    </tr>\n",
              "    <tr>\n",
              "      <th>5570</th>\n",
              "      <td>0</td>\n",
              "      <td>The guy did some bitching but I acted like i'd...</td>\n",
              "    </tr>\n",
              "    <tr>\n",
              "      <th>5571</th>\n",
              "      <td>0</td>\n",
              "      <td>Rofl. Its true to its name</td>\n",
              "    </tr>\n",
              "  </tbody>\n",
              "</table>\n",
              "</div>"
            ],
            "text/plain": [
              "      label                                            message\n",
              "5567      1  This is the 2nd time we have tried 2 contact u...\n",
              "5568      0               Will ü b going to esplanade fr home?\n",
              "5569      0  Pity, * was in mood for that. So...any other s...\n",
              "5570      0  The guy did some bitching but I acted like i'd...\n",
              "5571      0                         Rofl. Its true to its name"
            ]
          },
          "execution_count": 33,
          "metadata": {},
          "output_type": "execute_result"
        }
      ],
      "source": [
        "df_sms.tail()"
      ]
    },
    {
      "cell_type": "code",
      "execution_count": 35,
      "metadata": {
        "colab": {
          "base_uri": "https://localhost:8080/",
          "height": 513
        },
        "colab_type": "code",
        "id": "Xpzp7cqdljhd",
        "outputId": "545c2957-b82c-4ef9-bbe7-c66dd215eb88"
      },
      "outputs": [
        {
          "name": "stderr",
          "output_type": "stream",
          "text": [
            "C:\\Users\\DELL\\AppData\\Local\\Packages\\PythonSoftwareFoundation.Python.3.11_qbz5n2kfra8p0\\LocalCache\\local-packages\\Python311\\site-packages\\seaborn\\_oldcore.py:1498: FutureWarning: is_categorical_dtype is deprecated and will be removed in a future version. Use isinstance(dtype, CategoricalDtype) instead\n",
            "  if pd.api.types.is_categorical_dtype(vector):\n",
            "C:\\Users\\DELL\\AppData\\Local\\Packages\\PythonSoftwareFoundation.Python.3.11_qbz5n2kfra8p0\\LocalCache\\local-packages\\Python311\\site-packages\\seaborn\\_oldcore.py:1498: FutureWarning: is_categorical_dtype is deprecated and will be removed in a future version. Use isinstance(dtype, CategoricalDtype) instead\n",
            "  if pd.api.types.is_categorical_dtype(vector):\n",
            "C:\\Users\\DELL\\AppData\\Local\\Packages\\PythonSoftwareFoundation.Python.3.11_qbz5n2kfra8p0\\LocalCache\\local-packages\\Python311\\site-packages\\seaborn\\_oldcore.py:1498: FutureWarning: is_categorical_dtype is deprecated and will be removed in a future version. Use isinstance(dtype, CategoricalDtype) instead\n",
            "  if pd.api.types.is_categorical_dtype(vector):\n"
          ]
        },
        {
          "data": {
            "image/png": "[encoded data removed]",
            "text/plain": [
              "<Figure size 800x800 with 1 Axes>"
            ]
          },
          "metadata": {},
          "output_type": "display_data"
        }
      ],
      "source": [
        "# Countplot pour Spam et Ham\n",
        "plt.figure(figsize=(8,8))\n",
        "g = sns.countplot(x='label', data=df_sms)\n",
        "p = plt.title('Countplot for Spam vs. Ham as imbalanced dataset')\n",
        "p = plt.xlabel('Is SMS Spam?')\n",
        "p = plt.ylabel('Count')"
      ]
    },
    {
      "cell_type": "markdown",
      "metadata": {
        "colab_type": "text",
        "id": "CzNro4H9_Qb3"
      },
      "source": [
        "_**Insight:** Se basant sur la figure ci dessus, il est évident que le **jeu de données es déséquilibré**._"
      ]
    },
    {
      "cell_type": "markdown",
      "metadata": {
        "colab_type": "text",
        "id": "19UoPYemgITc"
      },
      "source": [
        "# **Feature Engineering**\n",
        "*   Traitement des ensembles de données déséquilibrés à l'aide du Oversampling\n",
        "*   Création de nouvelles fonctionnalités, par exemple word_count, contains_currency_symbol, contains_numbers, etc.\n",
        "\n"
      ]
    },
    {
      "cell_type": "code",
      "execution_count": 36,
      "metadata": {
        "colab": {
          "base_uri": "https://localhost:8080/",
          "height": 52
        },
        "colab_type": "code",
        "id": "YUjh1AFEgOab",
        "outputId": "81a5d752-67eb-4a3d-b8d7-b678c84c9edc"
      },
      "outputs": [
        {
          "name": "stdout",
          "output_type": "stream",
          "text": [
            "Nombre de Spam: 747\n",
            "Nombre de Ham: 4825\n"
          ]
        }
      ],
      "source": [
        "# Traitement d'un ensemble de données déséquilibrées à l'aide du Oversampling\n",
        "only_spam = df_sms[df_sms['label']==1]\n",
        "print('Nombre de Spam: {}'.format(only_spam.shape[0]))\n",
        "print('Nombre de Ham: {}'.format(df_sms.shape[0]-only_spam.shape[0]))"
      ]
    },
    {
      "cell_type": "code",
      "execution_count": 37,
      "metadata": {
        "colab": {
          "base_uri": "https://localhost:8080/",
          "height": 34
        },
        "colab_type": "code",
        "id": "EPMQ8YDJgOWH",
        "outputId": "70cf892d-3753-4322-e7bc-2afee6bfaf04"
      },
      "outputs": [
        {
          "data": {
            "text/plain": [
              "(9307, 2)"
            ]
          },
          "execution_count": 37,
          "metadata": {},
          "output_type": "execute_result"
        }
      ],
      "source": [
        "count = int((df_sms.shape[0]-only_spam.shape[0])/only_spam.shape[0])\n",
        "for i in range(0, count-1):\n",
        "  df_sms = pd.concat([df_sms, only_spam])\n",
        "\n",
        "df_sms.shape"
      ]
    },
    {
      "cell_type": "code",
      "execution_count": 38,
      "metadata": {
        "colab": {
          "base_uri": "https://localhost:8080/",
          "height": 513
        },
        "colab_type": "code",
        "id": "oKgIDjAbMsdT",
        "outputId": "d8f933eb-91fb-4592-d87b-12356e432388"
      },
      "outputs": [
        {
          "name": "stderr",
          "output_type": "stream",
          "text": [
            "C:\\Users\\DELL\\AppData\\Local\\Packages\\PythonSoftwareFoundation.Python.3.11_qbz5n2kfra8p0\\LocalCache\\local-packages\\Python311\\site-packages\\seaborn\\_oldcore.py:1498: FutureWarning: is_categorical_dtype is deprecated and will be removed in a future version. Use isinstance(dtype, CategoricalDtype) instead\n",
            "  if pd.api.types.is_categorical_dtype(vector):\n",
            "C:\\Users\\DELL\\AppData\\Local\\Packages\\PythonSoftwareFoundation.Python.3.11_qbz5n2kfra8p0\\LocalCache\\local-packages\\Python311\\site-packages\\seaborn\\_oldcore.py:1498: FutureWarning: is_categorical_dtype is deprecated and will be removed in a future version. Use isinstance(dtype, CategoricalDtype) instead\n",
            "  if pd.api.types.is_categorical_dtype(vector):\n",
            "C:\\Users\\DELL\\AppData\\Local\\Packages\\PythonSoftwareFoundation.Python.3.11_qbz5n2kfra8p0\\LocalCache\\local-packages\\Python311\\site-packages\\seaborn\\_oldcore.py:1498: FutureWarning: is_categorical_dtype is deprecated and will be removed in a future version. Use isinstance(dtype, CategoricalDtype) instead\n",
            "  if pd.api.types.is_categorical_dtype(vector):\n"
          ]
        },
        {
          "data": {
            "image/png": "[encoded data removed]",
            "text/plain": [
              "<Figure size 800x800 with 1 Axes>"
            ]
          },
          "metadata": {},
          "output_type": "display_data"
        }
      ],
      "source": [
        "# Countplot for Spam vs. Ham après équilibrage\n",
        "plt.figure(figsize=(8,8))\n",
        "g = sns.countplot(x='label', data=df_sms)\n",
        "p = plt.title('Countplot for Spam vs. Ham as balanced dataset')\n",
        "p = plt.xlabel('Is SMS Spam?')\n",
        "p = plt.ylabel('Count')"
      ]
    },
    {
      "cell_type": "code",
      "execution_count": 39,
      "metadata": {
        "colab": {},
        "colab_type": "code",
        "id": "BGyIBoY4NICC"
      },
      "outputs": [],
      "source": [
        "# Creation d'une nouvelle colonne word_count\n",
        "df_sms['word_count'] = df_sms['message'].apply(lambda x: len(x.split()))"
      ]
    },
    {
      "cell_type": "code",
      "execution_count": 40,
      "metadata": {
        "colab": {
          "base_uri": "https://localhost:8080/",
          "height": 197
        },
        "colab_type": "code",
        "id": "Dx2yYqZAU3xj",
        "outputId": "8b1ba000-261e-45c3-9e76-2bbe2e1f84b3"
      },
      "outputs": [
        {
          "data": {
            "text/html": [
              "<div>\n",
              "<style scoped>\n",
              "    .dataframe tbody tr th:only-of-type {\n",
              "        vertical-align: middle;\n",
              "    }\n",
              "\n",
              "    .dataframe tbody tr th {\n",
              "        vertical-align: top;\n",
              "    }\n",
              "\n",
              "    .dataframe thead th {\n",
              "        text-align: right;\n",
              "    }\n",
              "</style>\n",
              "<table border=\"1\" class=\"dataframe\">\n",
              "  <thead>\n",
              "    <tr style=\"text-align: right;\">\n",
              "      <th></th>\n",
              "      <th>label</th>\n",
              "      <th>message</th>\n",
              "      <th>word_count</th>\n",
              "    </tr>\n",
              "  </thead>\n",
              "  <tbody>\n",
              "    <tr>\n",
              "      <th>0</th>\n",
              "      <td>0</td>\n",
              "      <td>Go until jurong point, crazy.. Available only ...</td>\n",
              "      <td>20</td>\n",
              "    </tr>\n",
              "    <tr>\n",
              "      <th>1</th>\n",
              "      <td>0</td>\n",
              "      <td>Ok lar... Joking wif u oni...</td>\n",
              "      <td>6</td>\n",
              "    </tr>\n",
              "    <tr>\n",
              "      <th>2</th>\n",
              "      <td>1</td>\n",
              "      <td>Free entry in 2 a wkly comp to win FA Cup fina...</td>\n",
              "      <td>28</td>\n",
              "    </tr>\n",
              "    <tr>\n",
              "      <th>3</th>\n",
              "      <td>0</td>\n",
              "      <td>U dun say so early hor... U c already then say...</td>\n",
              "      <td>11</td>\n",
              "    </tr>\n",
              "    <tr>\n",
              "      <th>4</th>\n",
              "      <td>0</td>\n",
              "      <td>Nah I don't think he goes to usf, he lives aro...</td>\n",
              "      <td>13</td>\n",
              "    </tr>\n",
              "  </tbody>\n",
              "</table>\n",
              "</div>"
            ],
            "text/plain": [
              "   label                                            message  word_count\n",
              "0      0  Go until jurong point, crazy.. Available only ...          20\n",
              "1      0                      Ok lar... Joking wif u oni...           6\n",
              "2      1  Free entry in 2 a wkly comp to win FA Cup fina...          28\n",
              "3      0  U dun say so early hor... U c already then say...          11\n",
              "4      0  Nah I don't think he goes to usf, he lives aro...          13"
            ]
          },
          "execution_count": 40,
          "metadata": {},
          "output_type": "execute_result"
        }
      ],
      "source": [
        "df_sms.head()"
      ]
    },
    {
      "cell_type": "code",
      "execution_count": 41,
      "metadata": {
        "colab": {
          "base_uri": "https://localhost:8080/",
          "height": 441
        },
        "colab_type": "code",
        "id": "dRdACe8cONu9",
        "outputId": "6c2c4f54-213d-4a4c-a2e9-4c591df177b9"
      },
      "outputs": [
        {
          "name": "stderr",
          "output_type": "stream",
          "text": [
            "C:\\Users\\DELL\\AppData\\Local\\Temp\\ipykernel_20012\\2146891937.py:5: UserWarning: \n",
            "\n",
            "`distplot` is a deprecated function and will be removed in seaborn v0.14.0.\n",
            "\n",
            "Please adapt your code to use either `displot` (a figure-level function with\n",
            "similar flexibility) or `histplot` (an axes-level function for histograms).\n",
            "\n",
            "For a guide to updating your code to use the new functions, please see\n",
            "https://gist.github.com/mwaskom/de44147ed2974457ad6372750bbe5751\n",
            "\n",
            "  g = sns.distplot(a=df_sms[df_sms['label']==0].word_count)\n",
            "C:\\Users\\DELL\\AppData\\Local\\Packages\\PythonSoftwareFoundation.Python.3.11_qbz5n2kfra8p0\\LocalCache\\local-packages\\Python311\\site-packages\\seaborn\\_oldcore.py:1498: FutureWarning: is_categorical_dtype is deprecated and will be removed in a future version. Use isinstance(dtype, CategoricalDtype) instead\n",
            "  if pd.api.types.is_categorical_dtype(vector):\n",
            "C:\\Users\\DELL\\AppData\\Local\\Packages\\PythonSoftwareFoundation.Python.3.11_qbz5n2kfra8p0\\LocalCache\\local-packages\\Python311\\site-packages\\seaborn\\_oldcore.py:1119: FutureWarning: use_inf_as_na option is deprecated and will be removed in a future version. Convert inf values to NaN before operating instead.\n",
            "  with pd.option_context('mode.use_inf_as_na', True):\n",
            "C:\\Users\\DELL\\AppData\\Local\\Temp\\ipykernel_20012\\2146891937.py:10: UserWarning: \n",
            "\n",
            "`distplot` is a deprecated function and will be removed in seaborn v0.14.0.\n",
            "\n",
            "Please adapt your code to use either `displot` (a figure-level function with\n",
            "similar flexibility) or `histplot` (an axes-level function for histograms).\n",
            "\n",
            "For a guide to updating your code to use the new functions, please see\n",
            "https://gist.github.com/mwaskom/de44147ed2974457ad6372750bbe5751\n",
            "\n",
            "  g = sns.distplot(a=df_sms[df_sms['label']==1].word_count, color='red')\n",
            "C:\\Users\\DELL\\AppData\\Local\\Packages\\PythonSoftwareFoundation.Python.3.11_qbz5n2kfra8p0\\LocalCache\\local-packages\\Python311\\site-packages\\seaborn\\_oldcore.py:1498: FutureWarning: is_categorical_dtype is deprecated and will be removed in a future version. Use isinstance(dtype, CategoricalDtype) instead\n",
            "  if pd.api.types.is_categorical_dtype(vector):\n",
            "C:\\Users\\DELL\\AppData\\Local\\Packages\\PythonSoftwareFoundation.Python.3.11_qbz5n2kfra8p0\\LocalCache\\local-packages\\Python311\\site-packages\\seaborn\\_oldcore.py:1119: FutureWarning: use_inf_as_na option is deprecated and will be removed in a future version. Convert inf values to NaN before operating instead.\n",
            "  with pd.option_context('mode.use_inf_as_na', True):\n"
          ]
        },
        {
          "data": {
            "image/png": "[encoded data removed]",
            "text/plain": [
              "<Figure size 1200x600 with 2 Axes>"
            ]
          },
          "metadata": {},
          "output_type": "display_data"
        }
      ],
      "source": [
        "plt.figure(figsize=(12, 6))\n",
        "\n",
        "# 1-row, 2-column, go to the first subplot\n",
        "plt.subplot(1, 2, 1)\n",
        "g = sns.distplot(a=df_sms[df_sms['label']==0].word_count)\n",
        "p = plt.title('Distribution des word_count pour les messages Ham ')\n",
        "\n",
        "# 1-row, 2-column, go to the second subplot\n",
        "plt.subplot(1, 2, 2)\n",
        "g = sns.distplot(a=df_sms[df_sms['label']==1].word_count, color='red')\n",
        "p = plt.title('Distribution des word_count pour messages Spam')\n",
        "\n",
        "plt.tight_layout()\n",
        "plt.show()"
      ]
    },
    {
      "cell_type": "markdown",
      "metadata": {
        "colab_type": "text",
        "id": "aCAT3fDHQKmr"
      },
      "source": [
        "_** **Le nombre de mots des messages de spam** se situe entre **15 et 30 mots**, alors que la majorité des **messages de spam** se situent entre **moins de 25 mots._"
      ]
    },
    {
      "cell_type": "code",
      "execution_count": 42,
      "metadata": {
        "colab": {},
        "colab_type": "code",
        "id": "Bxntzd8jSEDE"
      },
      "outputs": [],
      "source": [
        "# Creation d'un nouvelle colonne pour les symboles de devise\n",
        "def currency(x):\n",
        "  currency_symbols = ['€', '$', '¥', '£', '₹']\n",
        "  for i in currency_symbols:\n",
        "    if i in x:\n",
        "      return 1\n",
        "  return 0\n",
        "\n",
        "df_sms['contains_currency_symbol'] = df_sms['message'].apply(currency)"
      ]
    },
    {
      "cell_type": "code",
      "execution_count": 43,
      "metadata": {
        "colab": {
          "base_uri": "https://localhost:8080/",
          "height": 197
        },
        "colab_type": "code",
        "id": "7lBLNtDiUlDM",
        "outputId": "d3967e1a-2f42-46e4-8eda-ed7dd139bdea"
      },
      "outputs": [
        {
          "data": {
            "text/html": [
              "<div>\n",
              "<style scoped>\n",
              "    .dataframe tbody tr th:only-of-type {\n",
              "        vertical-align: middle;\n",
              "    }\n",
              "\n",
              "    .dataframe tbody tr th {\n",
              "        vertical-align: top;\n",
              "    }\n",
              "\n",
              "    .dataframe thead th {\n",
              "        text-align: right;\n",
              "    }\n",
              "</style>\n",
              "<table border=\"1\" class=\"dataframe\">\n",
              "  <thead>\n",
              "    <tr style=\"text-align: right;\">\n",
              "      <th></th>\n",
              "      <th>label</th>\n",
              "      <th>message</th>\n",
              "      <th>word_count</th>\n",
              "      <th>contains_currency_symbol</th>\n",
              "    </tr>\n",
              "  </thead>\n",
              "  <tbody>\n",
              "    <tr>\n",
              "      <th>5537</th>\n",
              "      <td>1</td>\n",
              "      <td>Want explicit SEX in 30 secs? Ring 02073162414...</td>\n",
              "      <td>16</td>\n",
              "      <td>0</td>\n",
              "    </tr>\n",
              "    <tr>\n",
              "      <th>5540</th>\n",
              "      <td>1</td>\n",
              "      <td>ASKED 3MOBILE IF 0870 CHATLINES INCLU IN FREE ...</td>\n",
              "      <td>33</td>\n",
              "      <td>1</td>\n",
              "    </tr>\n",
              "    <tr>\n",
              "      <th>5547</th>\n",
              "      <td>1</td>\n",
              "      <td>Had your contract mobile 11 Mnths? Latest Moto...</td>\n",
              "      <td>28</td>\n",
              "      <td>0</td>\n",
              "    </tr>\n",
              "    <tr>\n",
              "      <th>5566</th>\n",
              "      <td>1</td>\n",
              "      <td>REMINDER FROM O2: To get 2.50 pounds free call...</td>\n",
              "      <td>28</td>\n",
              "      <td>0</td>\n",
              "    </tr>\n",
              "    <tr>\n",
              "      <th>5567</th>\n",
              "      <td>1</td>\n",
              "      <td>This is the 2nd time we have tried 2 contact u...</td>\n",
              "      <td>30</td>\n",
              "      <td>1</td>\n",
              "    </tr>\n",
              "  </tbody>\n",
              "</table>\n",
              "</div>"
            ],
            "text/plain": [
              "      label                                            message  word_count  \\\n",
              "5537      1  Want explicit SEX in 30 secs? Ring 02073162414...          16   \n",
              "5540      1  ASKED 3MOBILE IF 0870 CHATLINES INCLU IN FREE ...          33   \n",
              "5547      1  Had your contract mobile 11 Mnths? Latest Moto...          28   \n",
              "5566      1  REMINDER FROM O2: To get 2.50 pounds free call...          28   \n",
              "5567      1  This is the 2nd time we have tried 2 contact u...          30   \n",
              "\n",
              "      contains_currency_symbol  \n",
              "5537                         0  \n",
              "5540                         1  \n",
              "5547                         0  \n",
              "5566                         0  \n",
              "5567                         1  "
            ]
          },
          "execution_count": 43,
          "metadata": {},
          "output_type": "execute_result"
        }
      ],
      "source": [
        "df_sms.tail()"
      ]
    },
    {
      "cell_type": "code",
      "execution_count": 45,
      "metadata": {
        "colab": {
          "base_uri": "https://localhost:8080/",
          "height": 513
        },
        "colab_type": "code",
        "id": "YMZcauWZYHKV",
        "outputId": "feeb320f-f57e-43de-aa4c-2693bf0c867a"
      },
      "outputs": [
        {
          "name": "stderr",
          "output_type": "stream",
          "text": [
            "C:\\Users\\DELL\\AppData\\Local\\Packages\\PythonSoftwareFoundation.Python.3.11_qbz5n2kfra8p0\\LocalCache\\local-packages\\Python311\\site-packages\\seaborn\\_oldcore.py:1498: FutureWarning: is_categorical_dtype is deprecated and will be removed in a future version. Use isinstance(dtype, CategoricalDtype) instead\n",
            "  if pd.api.types.is_categorical_dtype(vector):\n",
            "C:\\Users\\DELL\\AppData\\Local\\Packages\\PythonSoftwareFoundation.Python.3.11_qbz5n2kfra8p0\\LocalCache\\local-packages\\Python311\\site-packages\\seaborn\\_oldcore.py:1498: FutureWarning: is_categorical_dtype is deprecated and will be removed in a future version. Use isinstance(dtype, CategoricalDtype) instead\n",
            "  if pd.api.types.is_categorical_dtype(vector):\n",
            "C:\\Users\\DELL\\AppData\\Local\\Packages\\PythonSoftwareFoundation.Python.3.11_qbz5n2kfra8p0\\LocalCache\\local-packages\\Python311\\site-packages\\seaborn\\_oldcore.py:1498: FutureWarning: is_categorical_dtype is deprecated and will be removed in a future version. Use isinstance(dtype, CategoricalDtype) instead\n",
            "  if pd.api.types.is_categorical_dtype(vector):\n",
            "C:\\Users\\DELL\\AppData\\Local\\Packages\\PythonSoftwareFoundation.Python.3.11_qbz5n2kfra8p0\\LocalCache\\local-packages\\Python311\\site-packages\\seaborn\\_oldcore.py:1498: FutureWarning: is_categorical_dtype is deprecated and will be removed in a future version. Use isinstance(dtype, CategoricalDtype) instead\n",
            "  if pd.api.types.is_categorical_dtype(vector):\n"
          ]
        },
        {
          "data": {
            "image/png": "[encoded data removed]",
            "text/plain": [
              "<Figure size 800x800 with 1 Axes>"
            ]
          },
          "metadata": {},
          "output_type": "display_data"
        }
      ],
      "source": [
        "# Countplot for contains_currency_symbol\n",
        "plt.figure(figsize=(8,8))\n",
        "g = sns.countplot(x='contains_currency_symbol', data=df_sms, hue='label')\n",
        "p = plt.title('Countplot pour contain_currency')\n",
        "p = plt.xlabel('Est ce que les sms contiennent de symboles de devise?')\n",
        "p = plt.ylabel('Count')\n",
        "p = plt.legend(labels=['Ham', 'Spam'], loc=9)"
      ]
    },
    {
      "cell_type": "markdown",
      "metadata": {
        "colab_type": "text",
        "id": "w-fLzXMsYY2N"
      },
      "source": [
        "_**Insight: Près d'un tiers des messages de spam contiennent des symboles monétaires**, et les symboles monétaires sont **rarement utilisés dans les messages de spam..**_"
      ]
    },
    {
      "cell_type": "code",
      "execution_count": 47,
      "metadata": {
        "colab": {},
        "colab_type": "code",
        "id": "OqgKvMkTVCJL"
      },
      "outputs": [],
      "source": [
        "# Creation d'une nouvelle colonne pour les nombres \n",
        "def numbers(x):\n",
        "  for i in x:\n",
        "    if ord(i)>=48 and ord(i)<=57:\n",
        "      return 1\n",
        "  return 0\n",
        "\n",
        "df_sms['contains_number'] = df_sms['message'].apply(numbers)"
      ]
    },
    {
      "cell_type": "code",
      "execution_count": 48,
      "metadata": {
        "colab": {
          "base_uri": "https://localhost:8080/",
          "height": 197
        },
        "colab_type": "code",
        "id": "dLrxUfDsVmgj",
        "outputId": "f178fcc1-3cba-49a8-ccc7-290bd6b87282"
      },
      "outputs": [
        {
          "data": {
            "text/html": [
              "<div>\n",
              "<style scoped>\n",
              "    .dataframe tbody tr th:only-of-type {\n",
              "        vertical-align: middle;\n",
              "    }\n",
              "\n",
              "    .dataframe tbody tr th {\n",
              "        vertical-align: top;\n",
              "    }\n",
              "\n",
              "    .dataframe thead th {\n",
              "        text-align: right;\n",
              "    }\n",
              "</style>\n",
              "<table border=\"1\" class=\"dataframe\">\n",
              "  <thead>\n",
              "    <tr style=\"text-align: right;\">\n",
              "      <th></th>\n",
              "      <th>label</th>\n",
              "      <th>message</th>\n",
              "      <th>word_count</th>\n",
              "      <th>contains_currency_symbol</th>\n",
              "      <th>contains_number</th>\n",
              "    </tr>\n",
              "  </thead>\n",
              "  <tbody>\n",
              "    <tr>\n",
              "      <th>0</th>\n",
              "      <td>0</td>\n",
              "      <td>Go until jurong point, crazy.. Available only ...</td>\n",
              "      <td>20</td>\n",
              "      <td>0</td>\n",
              "      <td>0</td>\n",
              "    </tr>\n",
              "    <tr>\n",
              "      <th>1</th>\n",
              "      <td>0</td>\n",
              "      <td>Ok lar... Joking wif u oni...</td>\n",
              "      <td>6</td>\n",
              "      <td>0</td>\n",
              "      <td>0</td>\n",
              "    </tr>\n",
              "    <tr>\n",
              "      <th>2</th>\n",
              "      <td>1</td>\n",
              "      <td>Free entry in 2 a wkly comp to win FA Cup fina...</td>\n",
              "      <td>28</td>\n",
              "      <td>0</td>\n",
              "      <td>1</td>\n",
              "    </tr>\n",
              "    <tr>\n",
              "      <th>3</th>\n",
              "      <td>0</td>\n",
              "      <td>U dun say so early hor... U c already then say...</td>\n",
              "      <td>11</td>\n",
              "      <td>0</td>\n",
              "      <td>0</td>\n",
              "    </tr>\n",
              "    <tr>\n",
              "      <th>4</th>\n",
              "      <td>0</td>\n",
              "      <td>Nah I don't think he goes to usf, he lives aro...</td>\n",
              "      <td>13</td>\n",
              "      <td>0</td>\n",
              "      <td>0</td>\n",
              "    </tr>\n",
              "  </tbody>\n",
              "</table>\n",
              "</div>"
            ],
            "text/plain": [
              "   label                                            message  word_count  \\\n",
              "0      0  Go until jurong point, crazy.. Available only ...          20   \n",
              "1      0                      Ok lar... Joking wif u oni...           6   \n",
              "2      1  Free entry in 2 a wkly comp to win FA Cup fina...          28   \n",
              "3      0  U dun say so early hor... U c already then say...          11   \n",
              "4      0  Nah I don't think he goes to usf, he lives aro...          13   \n",
              "\n",
              "   contains_currency_symbol  contains_number  \n",
              "0                         0                0  \n",
              "1                         0                0  \n",
              "2                         0                1  \n",
              "3                         0                0  \n",
              "4                         0                0  "
            ]
          },
          "execution_count": 48,
          "metadata": {},
          "output_type": "execute_result"
        }
      ],
      "source": [
        "df_sms.head()"
      ]
    },
    {
      "cell_type": "code",
      "execution_count": 49,
      "metadata": {
        "colab": {
          "base_uri": "https://localhost:8080/",
          "height": 513
        },
        "colab_type": "code",
        "id": "SylEzeOlV0Kj",
        "outputId": "e4b2752a-f85c-427e-b541-0675d0642a53"
      },
      "outputs": [
        {
          "name": "stderr",
          "output_type": "stream",
          "text": [
            "C:\\Users\\DELL\\AppData\\Local\\Packages\\PythonSoftwareFoundation.Python.3.11_qbz5n2kfra8p0\\LocalCache\\local-packages\\Python311\\site-packages\\seaborn\\_oldcore.py:1498: FutureWarning: is_categorical_dtype is deprecated and will be removed in a future version. Use isinstance(dtype, CategoricalDtype) instead\n",
            "  if pd.api.types.is_categorical_dtype(vector):\n",
            "C:\\Users\\DELL\\AppData\\Local\\Packages\\PythonSoftwareFoundation.Python.3.11_qbz5n2kfra8p0\\LocalCache\\local-packages\\Python311\\site-packages\\seaborn\\_oldcore.py:1498: FutureWarning: is_categorical_dtype is deprecated and will be removed in a future version. Use isinstance(dtype, CategoricalDtype) instead\n",
            "  if pd.api.types.is_categorical_dtype(vector):\n",
            "C:\\Users\\DELL\\AppData\\Local\\Packages\\PythonSoftwareFoundation.Python.3.11_qbz5n2kfra8p0\\LocalCache\\local-packages\\Python311\\site-packages\\seaborn\\_oldcore.py:1498: FutureWarning: is_categorical_dtype is deprecated and will be removed in a future version. Use isinstance(dtype, CategoricalDtype) instead\n",
            "  if pd.api.types.is_categorical_dtype(vector):\n",
            "C:\\Users\\DELL\\AppData\\Local\\Packages\\PythonSoftwareFoundation.Python.3.11_qbz5n2kfra8p0\\LocalCache\\local-packages\\Python311\\site-packages\\seaborn\\_oldcore.py:1498: FutureWarning: is_categorical_dtype is deprecated and will be removed in a future version. Use isinstance(dtype, CategoricalDtype) instead\n",
            "  if pd.api.types.is_categorical_dtype(vector):\n"
          ]
        },
        {
          "data": {
            "image/png": "[encoded data removed]",
            "text/plain": [
              "<Figure size 800x800 with 1 Axes>"
            ]
          },
          "metadata": {},
          "output_type": "display_data"
        }
      ],
      "source": [
        "# Countplot for contains_number\n",
        "plt.figure(figsize=(8,8))\n",
        "g = sns.countplot(x='contains_number', data=df_sms, hue='label')\n",
        "p = plt.title('Countplot pour contain_numbers')\n",
        "p = plt.xlabel('Est ce que les sms contiennent des nombres ?')\n",
        "p = plt.ylabel('Count')\n",
        "p = plt.legend(labels=['Ham', 'Spam'], loc=9)"
      ]
    },
    {
      "cell_type": "markdown",
      "metadata": {
        "colab_type": "text",
        "id": "fJTf9Z9GXKfN"
      },
      "source": [
        "_**Insight:** Il est évident que **la plupart des messages de spam contiennent des chiffres** et que **la majorité des messages de spam ne contiennent pas de chiffres..**_"
      ]
    },
    {
      "cell_type": "markdown",
      "metadata": {
        "colab_type": "text",
        "id": "uLCtNBBQnRDR"
      },
      "source": [
        "# **Data Cleaning | Nettoyage des données**\n",
        "* Suppression des caractères spéciaux et des nombres à l'aide d'expressions régulières\n",
        "* Conversion de l'ensemble du message en minuscules\n",
        "* Tokenisation du sms par mots\n",
        "* Suppression des mots vides\n",
        "* Lemmatisation des mots\n",
        "* Joindre les mots lemmatisés\n",
        "* Construction d'un corpus de messages"
      ]
    },
    {
      "cell_type": "code",
      "execution_count": 27,
      "metadata": {
        "colab": {
          "base_uri": "https://localhost:8080/",
          "height": 87
        },
        "colab_type": "code",
        "id": "d2IlhceAnQb7",
        "outputId": "b313713d-3b6e-438d-9a70-a8ed996f75c0"
      },
      "outputs": [
        {
          "name": "stdout",
          "output_type": "stream",
          "text": [
            "[nltk_data] Downloading package stopwords to /root/nltk_data...\n",
            "[nltk_data]   Package stopwords is already up-to-date!\n",
            "[nltk_data] Downloading package wordnet to /root/nltk_data...\n",
            "[nltk_data]   Package wordnet is already up-to-date!\n"
          ]
        }
      ],
      "source": [
        "# Importing essential libraries for performing NLP\n",
        "import nltk\n",
        "import re\n",
        "nltk.download('stopwords')\n",
        "nltk.download('wordnet')\n",
        "from nltk.corpus import stopwords\n",
        "from nltk.stem import WordNetLemmatizer"
      ]
    },
    {
      "cell_type": "code",
      "execution_count": 28,
      "metadata": {
        "colab": {},
        "colab_type": "code",
        "id": "GBzPDWYglyeS"
      },
      "outputs": [],
      "source": [
        "# Cleaning the messages\n",
        "corpus = []\n",
        "wnl = WordNetLemmatizer()\n",
        "\n",
        "for sms_string in list(df_sms.message):\n",
        "\n",
        "  # Cleaning special character from the sms\n",
        "  message = re.sub(pattern='[^a-zA-Z]', repl=' ', string=sms_string)\n",
        "\n",
        "  # Converting the entire sms into lower case\n",
        "  message = message.lower()\n",
        "\n",
        "  # Tokenizing the sms by words\n",
        "  words = message.split()\n",
        "\n",
        "  # Removing the stop words\n",
        "  filtered_words = [word for word in words if word not in set(stopwords.words('english'))]\n",
        "\n",
        "  # Lemmatizing the words\n",
        "  lemmatized_words = [wnl.lemmatize(word) for word in filtered_words]\n",
        "\n",
        "  # Joining the lemmatized words\n",
        "  message = ' '.join(lemmatized_words)\n",
        "\n",
        "  # Building a corpus of messages\n",
        "  corpus.append(message)"
      ]
    },
    {
      "cell_type": "code",
      "execution_count": 29,
      "metadata": {
        "colab": {
          "base_uri": "https://localhost:8080/",
          "height": 70
        },
        "colab_type": "code",
        "id": "u-qBfMYzpyoS",
        "outputId": "a19c2945-92cf-4dea-a7fe-9b5744a7d2aa"
      },
      "outputs": [
        {
          "data": {
            "text/plain": [
              "['go jurong point crazy available bugis n great world la e buffet cine got amore wat',\n",
              " 'ok lar joking wif u oni',\n",
              " 'free entry wkly comp win fa cup final tkts st may text fa receive entry question std txt rate c apply']"
            ]
          },
          "execution_count": 29,
          "metadata": {
            "tags": []
          },
          "output_type": "execute_result"
        }
      ],
      "source": [
        "corpus[0:3]"
      ]
    },
    {
      "cell_type": "code",
      "execution_count": 30,
      "metadata": {
        "colab": {},
        "colab_type": "code",
        "id": "XDL2Jfcbp6hi"
      },
      "outputs": [],
      "source": [
        "# Creating the Bag of Words model\n",
        "from sklearn.feature_extraction.text import TfidfVectorizer\n",
        "tfidf = TfidfVectorizer(max_features=500)\n",
        "vectors = tfidf.fit_transform(corpus).toarray()\n",
        "feature_names = tfidf.get_feature_names()\n",
        "\n",
        "# Extracting independent and dependent variables from the dataset\n",
        "X = pd.DataFrame(vectors, columns=feature_names)\n",
        "y = df_sms['label']"
      ]
    },
    {
      "cell_type": "markdown",
      "metadata": {
        "colab_type": "text",
        "id": "yvo6cT8rrKas"
      },
      "source": [
        "# **Model Building & Evaluation**\n",
        "_**Metric: F1-Score**_\n",
        "\n",
        "* Multiomail Naive Bayes: 0.943\n",
        "* Decision Tree: 0.98\n",
        "* **Random Forest (Ensemble): 0.994**\n",
        "* Voting (Multinomial Naive Bayes + Decision Tree): 0.98\n"
      ]
    },
    {
      "cell_type": "code",
      "execution_count": 31,
      "metadata": {
        "colab": {},
        "colab_type": "code",
        "id": "-GI83Ie5SEak"
      },
      "outputs": [],
      "source": [
        "from sklearn.model_selection import cross_val_score\n",
        "from sklearn.metrics import classification_report, confusion_matrix\n",
        "from sklearn.model_selection import train_test_split"
      ]
    },
    {
      "cell_type": "code",
      "execution_count": 32,
      "metadata": {
        "colab": {},
        "colab_type": "code",
        "id": "kMzc9nvtUgMk"
      },
      "outputs": [],
      "source": [
        "X_train, X_test, y_train, y_test = train_test_split(X, y, test_size=0.2, random_state=42)"
      ]
    },
    {
      "cell_type": "code",
      "execution_count": 33,
      "metadata": {
        "colab": {
          "base_uri": "https://localhost:8080/",
          "height": 52
        },
        "colab_type": "code",
        "id": "ZsqsZ6OorYHq",
        "outputId": "7f89c8c2-656e-44f8-ebc3-2a1ed55bd188"
      },
      "outputs": [
        {
          "name": "stdout",
          "output_type": "stream",
          "text": [
            "--- Average F1-Score for MNB model: 0.943 ---\n",
            "Standard Deviation: 0.004\n"
          ]
        }
      ],
      "source": [
        "# Fitting Naive Bayes to the Training set\n",
        "from sklearn.naive_bayes import MultinomialNB\n",
        "mnb = MultinomialNB()\n",
        "cv = cross_val_score(mnb, X, y, scoring='f1', cv=10)\n",
        "print('--- Average F1-Score for MNB model: {} ---'.format(round(cv.mean(), 3)))\n",
        "print('Standard Deviation: {}'.format(round(cv.std(), 3)))"
      ]
    },
    {
      "cell_type": "code",
      "execution_count": 34,
      "metadata": {
        "colab": {
          "base_uri": "https://localhost:8080/",
          "height": 194
        },
        "colab_type": "code",
        "id": "INb9wkThW45r",
        "outputId": "26122edc-5dd8-47af-9a96-89ca68b69196"
      },
      "outputs": [
        {
          "name": "stdout",
          "output_type": "stream",
          "text": [
            "--- Classification report for MNB model ---\n",
            "              precision    recall  f1-score   support\n",
            "\n",
            "           0       0.94      0.94      0.94       959\n",
            "           1       0.94      0.94      0.94       903\n",
            "\n",
            "    accuracy                           0.94      1862\n",
            "   macro avg       0.94      0.94      0.94      1862\n",
            "weighted avg       0.94      0.94      0.94      1862\n",
            "\n"
          ]
        }
      ],
      "source": [
        "# Classification report for MNB model\n",
        "mnb = MultinomialNB()\n",
        "mnb.fit(X_train, y_train)\n",
        "y_pred = mnb.predict(X_test)\n",
        "\n",
        "print('--- Classification report for MNB model ---')\n",
        "print(classification_report(y_test, y_pred))"
      ]
    },
    {
      "cell_type": "code",
      "execution_count": 35,
      "metadata": {
        "colab": {
          "base_uri": "https://localhost:8080/",
          "height": 350
        },
        "colab_type": "code",
        "id": "5bjAauN_XMNN",
        "outputId": "50f1f3dc-45b6-4a68-cec4-9039ab4a791b"
      },
      "outputs": [
        {
          "data": {
            "image/png": "[encoded data removed]",
            "text/plain": [
              "<Figure size 576x360 with 2 Axes>"
            ]
          },
          "metadata": {
            "needs_background": "light",
            "tags": []
          },
          "output_type": "display_data"
        }
      ],
      "source": [
        "# Confusion matrix of MNB model\n",
        "cm = confusion_matrix(y_test, y_pred)\n",
        "\n",
        "plt.figure(figsize=(8,5))\n",
        "axis_labels = ['ham', 'spam']\n",
        "g = sns.heatmap(data=cm, annot=True, cmap=\"Blues\", xticklabels=axis_labels, yticklabels=axis_labels, fmt='g', cbar_kws={\"shrink\": 0.5})\n",
        "p = plt.xlabel('Actual values')\n",
        "p = plt.ylabel('Predicted values')\n",
        "p = plt.title('--- Confusion Matrix for Multinomial Naive Bayes model ---')"
      ]
    },
    {
      "cell_type": "code",
      "execution_count": 36,
      "metadata": {
        "colab": {
          "base_uri": "https://localhost:8080/",
          "height": 52
        },
        "colab_type": "code",
        "id": "rhkwwq3Hb-M-",
        "outputId": "bd40ba18-8911-422d-fd09-ac1a33881f42"
      },
      "outputs": [
        {
          "name": "stdout",
          "output_type": "stream",
          "text": [
            "--- Average F1-Score for Decision Tree model: 0.98 ---\n",
            "Standard Deviation: 0.004\n"
          ]
        }
      ],
      "source": [
        "# Fitting Random Forest to the Training set\n",
        "from sklearn.tree import DecisionTreeClassifier\n",
        "dt = DecisionTreeClassifier()\n",
        "cv = cross_val_score(dt, X, y, scoring='f1', cv=10)\n",
        "print('--- Average F1-Score for Decision Tree model: {} ---'.format(round(cv.mean(), 3)))\n",
        "print('Standard Deviation: {}'.format(round(cv.std(), 3)))"
      ]
    },
    {
      "cell_type": "code",
      "execution_count": 37,
      "metadata": {
        "colab": {
          "base_uri": "https://localhost:8080/",
          "height": 194
        },
        "colab_type": "code",
        "id": "uFB2qr6YchC-",
        "outputId": "ccb32627-16f4-4fab-e276-0e7b9ab1085b"
      },
      "outputs": [
        {
          "name": "stdout",
          "output_type": "stream",
          "text": [
            "--- Classification report for Decision Tree model ---\n",
            "              precision    recall  f1-score   support\n",
            "\n",
            "           0       1.00      0.97      0.98       959\n",
            "           1       0.97      1.00      0.98       903\n",
            "\n",
            "    accuracy                           0.98      1862\n",
            "   macro avg       0.98      0.98      0.98      1862\n",
            "weighted avg       0.98      0.98      0.98      1862\n",
            "\n"
          ]
        }
      ],
      "source": [
        "# Classification report for Decision Tree model\n",
        "dt = DecisionTreeClassifier()\n",
        "dt.fit(X_train, y_train)\n",
        "y_pred = dt.predict(X_test)\n",
        "\n",
        "print('--- Classification report for Decision Tree model ---')\n",
        "print(classification_report(y_test, y_pred))"
      ]
    },
    {
      "cell_type": "code",
      "execution_count": 38,
      "metadata": {
        "colab": {
          "base_uri": "https://localhost:8080/",
          "height": 350
        },
        "colab_type": "code",
        "id": "vcNIfLAMc_cN",
        "outputId": "9815c4bb-fb7a-40e4-b0b1-5cebb5b89f4a"
      },
      "outputs": [
        {
          "data": {
            "image/png": "[encoded data removed]",
            "text/plain": [
              "<Figure size 576x360 with 2 Axes>"
            ]
          },
          "metadata": {
            "needs_background": "light",
            "tags": []
          },
          "output_type": "display_data"
        }
      ],
      "source": [
        "# Confusion matrix of Decision Tree model\n",
        "cm = confusion_matrix(y_test, y_pred)\n",
        "\n",
        "plt.figure(figsize=(8,5))\n",
        "axis_labels = ['ham', 'spam']\n",
        "g = sns.heatmap(data=cm, annot=True, cmap=\"Blues\", xticklabels=axis_labels, yticklabels=axis_labels, fmt='g', cbar_kws={\"shrink\": 0.5})\n",
        "p = plt.xlabel('Actual values')\n",
        "p = plt.ylabel('Predicted values')\n",
        "p = plt.title('--- Confusion Matrix for Decision Tree model ---')"
      ]
    },
    {
      "cell_type": "code",
      "execution_count": 39,
      "metadata": {
        "colab": {
          "base_uri": "https://localhost:8080/",
          "height": 52
        },
        "colab_type": "code",
        "id": "kOuy-BaLSqd5",
        "outputId": "95e0b838-2b7e-47ef-cc72-ed8cf1800a77"
      },
      "outputs": [
        {
          "name": "stdout",
          "output_type": "stream",
          "text": [
            "--- Average F1-Score for Random Forest model: 0.994 ---\n",
            "Standard Deviation: 0.003\n"
          ]
        }
      ],
      "source": [
        "# Fitting Random Forest to the Training set\n",
        "from sklearn.ensemble import RandomForestClassifier\n",
        "rf = RandomForestClassifier(n_estimators=10)\n",
        "cv = cross_val_score(rf, X, y, scoring='f1', cv=10)\n",
        "print('--- Average F1-Score for Random Forest model: {} ---'.format(round(cv.mean(), 3)))\n",
        "print('Standard Deviation: {}'.format(round(cv.std(), 3)))"
      ]
    },
    {
      "cell_type": "code",
      "execution_count": 40,
      "metadata": {
        "colab": {
          "base_uri": "https://localhost:8080/",
          "height": 194
        },
        "colab_type": "code",
        "id": "F02lOVivsrna",
        "outputId": "b22f7c39-fac6-44ce-882e-26be51c5cae2"
      },
      "outputs": [
        {
          "name": "stdout",
          "output_type": "stream",
          "text": [
            "--- Classification report for Random Forest model ---\n",
            "              precision    recall  f1-score   support\n",
            "\n",
            "           0       1.00      0.99      0.99       959\n",
            "           1       0.99      1.00      0.99       903\n",
            "\n",
            "    accuracy                           0.99      1862\n",
            "   macro avg       0.99      0.99      0.99      1862\n",
            "weighted avg       0.99      0.99      0.99      1862\n",
            "\n"
          ]
        }
      ],
      "source": [
        "# Classification report for Random Forest model\n",
        "rf = RandomForestClassifier(n_estimators=20)\n",
        "rf.fit(X_train, y_train)\n",
        "y_pred = rf.predict(X_test)\n",
        "\n",
        "print('--- Classification report for Random Forest model ---')\n",
        "print(classification_report(y_test, y_pred))"
      ]
    },
    {
      "cell_type": "code",
      "execution_count": 41,
      "metadata": {
        "colab": {
          "base_uri": "https://localhost:8080/",
          "height": 350
        },
        "colab_type": "code",
        "id": "Q-UL5fUSWL_N",
        "outputId": "9864a1ba-0a6d-45e1-d934-b09acacc602b"
      },
      "outputs": [
        {
          "data": {
            "image/png": "[encoded data removed]",
            "text/plain": [
              "<Figure size 576x360 with 2 Axes>"
            ]
          },
          "metadata": {
            "needs_background": "light",
            "tags": []
          },
          "output_type": "display_data"
        }
      ],
      "source": [
        "# Confusion matrix of Random Forest model\n",
        "cm = confusion_matrix(y_test, y_pred)\n",
        "\n",
        "plt.figure(figsize=(8,5))\n",
        "axis_labels = ['ham', 'spam']\n",
        "g = sns.heatmap(data=cm, annot=True, cmap=\"Blues\", xticklabels=axis_labels, yticklabels=axis_labels, fmt='g', cbar_kws={\"shrink\": 0.5})\n",
        "p = plt.xlabel('Actual values')\n",
        "p = plt.ylabel('Predicted values')\n",
        "p = plt.title('--- Confusion Matrix for Random Forest model ---')"
      ]
    },
    {
      "cell_type": "markdown",
      "metadata": {
        "colab_type": "text",
        "id": "ySKNOiwaop3f"
      },
      "source": [
        "_**Note:** Decision Tree & MNB algorithms are selected and fed to Voting algorithm to increase the F1-Score!_"
      ]
    },
    {
      "cell_type": "code",
      "execution_count": 42,
      "metadata": {
        "colab": {
          "base_uri": "https://localhost:8080/",
          "height": 52
        },
        "colab_type": "code",
        "id": "scx5eN7TaE3V",
        "outputId": "f5f90bcb-f538-487a-9521-783aac3540a3"
      },
      "outputs": [
        {
          "name": "stdout",
          "output_type": "stream",
          "text": [
            "--- Average F1-Score for VotingClassifier model: 0.98 ---\n",
            "Standard Deviation: 0.003\n"
          ]
        }
      ],
      "source": [
        "# Fitting Decision Tree and MNB to VotingClassifier\n",
        "from sklearn.ensemble import VotingClassifier\n",
        "vc = VotingClassifier([('decision_tree', dt), ('m_naive_bayes', mnb)], weights=[2,1])\n",
        "cv = cross_val_score(vc, X, y, cv=10, scoring='f1')\n",
        "\n",
        "print('--- Average F1-Score for VotingClassifier model: {} ---'.format(round(cv.mean(), 3)))\n",
        "print('Standard Deviation: {}'.format(round(cv.std(), 3)))"
      ]
    },
    {
      "cell_type": "markdown",
      "metadata": {
        "colab_type": "text",
        "id": "Cy6K6Ps0oKnq"
      },
      "source": [
        "_**Note:** Voting algorithm did not out-perform Random Forest algorithm, hence **Random Forest algorithm is selected for predicting the results of this problem statement.**_\n"
      ]
    },
    {
      "cell_type": "markdown",
      "metadata": {
        "colab_type": "text",
        "id": "LAtjiTWSuaYD"
      },
      "source": [
        "# **Making Predictions**"
      ]
    },
    {
      "cell_type": "code",
      "execution_count": 43,
      "metadata": {
        "colab": {},
        "colab_type": "code",
        "id": "culehxsLuZ0a"
      },
      "outputs": [],
      "source": [
        "def predict_spam(sample_message):\n",
        "  sample_message = re.sub(pattern='[^a-zA-Z]',repl=' ', string = sample_message)\n",
        "  sample_message = sample_message.lower()\n",
        "  sample_message_words = sample_message.split()\n",
        "  sample_message_words = [word for word in sample_message_words if not word in set(stopwords.words('english'))]\n",
        "  final_message = [wnl.lemmatize(word) for word in sample_message_words]\n",
        "  final_message = ' '.join(final_message)\n",
        "\n",
        "  temp = tfidf.transform([final_message]).toarray()\n",
        "  return rf.predict(temp)"
      ]
    },
    {
      "cell_type": "code",
      "execution_count": 44,
      "metadata": {
        "colab": {
          "base_uri": "https://localhost:8080/",
          "height": 34
        },
        "colab_type": "code",
        "id": "QzJJjG8fu7OI",
        "outputId": "4af7897b-034b-4beb-85b0-3d199f285039"
      },
      "outputs": [
        {
          "name": "stdout",
          "output_type": "stream",
          "text": [
            "Gotcha! This is a SPAM message.\n"
          ]
        }
      ],
      "source": [
        "# Prediction 1 - Lottery text message\n",
        "sample_message = 'IMPORTANT - You could be entitled up to £3,160 in compensation from mis-sold PPI on a credit card or loan. Please reply PPI for info or STOP to opt out.'\n",
        "\n",
        "if predict_spam(sample_message):\n",
        "  print('Gotcha! This is a SPAM message.')\n",
        "else:\n",
        "  print('This is a HAM (normal) message.')"
      ]
    },
    {
      "cell_type": "code",
      "execution_count": 45,
      "metadata": {
        "colab": {
          "base_uri": "https://localhost:8080/",
          "height": 34
        },
        "colab_type": "code",
        "id": "Wl4QRloavhNa",
        "outputId": "6d2bf1e6-975c-46ee-8c8b-5758dec130bd"
      },
      "outputs": [
        {
          "name": "stdout",
          "output_type": "stream",
          "text": [
            "This is a HAM (normal) message.\n"
          ]
        }
      ],
      "source": [
        "# Prediction 2 - Casual text chat\n",
        "sample_message = 'Came to think of it. I have never got a spam message before.'\n",
        "\n",
        "if predict_spam(sample_message):\n",
        "  print('Gotcha! This is a SPAM message.')\n",
        "else:\n",
        "  print('This is a HAM (normal) message.')"
      ]
    },
    {
      "cell_type": "code",
      "execution_count": 46,
      "metadata": {
        "colab": {
          "base_uri": "https://localhost:8080/",
          "height": 34
        },
        "colab_type": "code",
        "id": "b3y7O714gAu3",
        "outputId": "35a741d8-16b6-4350-ebf6-22093d050f73"
      },
      "outputs": [
        {
          "name": "stdout",
          "output_type": "stream",
          "text": [
            "This is a HAM (normal) message.\n"
          ]
        }
      ],
      "source": [
        "# Prediction 3 - Transaction confirmation text message\n",
        "sample_message = 'Sam, your rent payment for Jan 19 has been received. $1,300 will be drafted from your Wells Fargo Account ******0000 within 24-48 business hours. Thank you!'\n",
        "\n",
        "if predict_spam(sample_message):\n",
        "  print('Gotcha! This is a SPAM message.')\n",
        "else:\n",
        "  print('This is a HAM (normal) message.')"
      ]
    },
    {
      "cell_type": "code",
      "execution_count": 47,
      "metadata": {
        "colab": {
          "base_uri": "https://localhost:8080/",
          "height": 34
        },
        "colab_type": "code",
        "id": "5Qa7U43sh4__",
        "outputId": "5a07d8e3-68c9-4d38-c292-e0abec5a8b62"
      },
      "outputs": [
        {
          "name": "stdout",
          "output_type": "stream",
          "text": [
            "Gotcha! This is a SPAM message.\n"
          ]
        }
      ],
      "source": [
        "# Predicting values 4 - Feedback message\n",
        "sample_message = 'Tammy, thanks for choosing Carl’s Car Wash for your express polish. We would love to hear your thoughts on the service. Feel free to text back with any feedback. Safe driving!'\n",
        "\n",
        "if predict_spam(sample_message):\n",
        "  print('Gotcha! This is a SPAM message.')\n",
        "else:\n",
        "  print('This is a HAM (normal) message.')"
      ]
    }
  ],
  "metadata": {
    "colab": {
      "collapsed_sections": [],
      "name": "Spam SMS Classication.ipynb",
      "provenance": [],
      "toc_visible": true
    },
    "kernelspec": {
      "display_name": "Python 3",
      "language": "python",
      "name": "python3"
    },
    "language_info": {
      "codemirror_mode": {
        "name": "ipython",
        "version": 3
      },
      "file_extension": ".py",
      "mimetype": "text/x-python",
      "name": "python",
      "nbconvert_exporter": "python",
      "pygments_lexer": "ipython3",
      "version": "3.11.7"
    }
  },
  "nbformat": 4,
  "nbformat_minor": 0
}
